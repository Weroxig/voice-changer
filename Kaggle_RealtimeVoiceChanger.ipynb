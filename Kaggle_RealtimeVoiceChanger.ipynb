{
   "cells": [
      {
         "cell_type": "markdown",
         "metadata": {
            "colab_type": "text",
            "id": "view-in-github"
         },
         "source": [
            "<a href=\"https://www.kaggle.com/code/suneku/voice-changer-public\" target=\"_parent\"><img src=\"https://img.shields.io/badge/Open%20In%20Kaggle-035a7d?style=for-the-badge&logo=kaggle&logoColor=white\" alt=\"Open In Colab\"/></a>"
         ]
      },
      {
         "cell_type": "markdown",
         "metadata": {
            "id": "Lbbmx_Vjl0zo"
         },
         "source": [
            "### [w-okada's Voice Changer](https://github.com/deiteris/voice-changer) | **Kaggle**\n",
            "\n",
            "---\n",
            "\n",
            "## **⬇ VERY IMPORTANT ⬇**\n",
            "\n",
            "You can use the following settings for optimal results:\n",
            "\n",
            "Best performance: `f0: fcpe | Chunk: 56.0ms or higher | Extra: 2.7s`<br>\n",
            "Best quality: `f0: rmvpe | Chunk: 64.0ms or higher | Extra: 5s`<br>\n",
            "**Don't forget to select a GPU in the GPU field, <b>NEVER</b> use CPU!\n",
            "\n",
            "You can tune `Chunk` for lower/higher delay and `Extra` for better quality.\n",
            "\n",
            "*You can always [click here](https://github.com/YunaOneeChan/Voice-Changer-Settings) to check if these settings are up-to-date*\n",
            "\n",
            "---\n",
            "**Credits**<br>\n",
            "Realtime Voice Changer by [w-okada](https://github.com/w-okada)\n",
            "Original instructions by [Hina](https://github.com/HinaBl)\n",
            "\n",
            "**Need help?** [AI Hub Discord](https://discord.gg/aihub) » ***#help-realtime-vc***\n",
            "\n",
            "---"
         ]
      },
      {
         "cell_type": "markdown",
         "metadata": {},
         "source": [
            "# Kaggle Tutorial\n",
            "Running this notebook can be a bit complicated.\\\n",
            "After created your Kaggle account, you'll need to **verify your phone number** to be able to use Internet Connection and GPUs.\\\n",
            "Follow the instructions on the image below.\n",
            "\n",
            "## <font color=blue>*You can use <b>GPU P100</b> instead of GPU T4, some people are telling that <b>P100 is better</b>.*</font>\n",
            "![instructions.png](https://i.imgur.com/0NutkD8.png)"
         ]
      },
      {
         "cell_type": "markdown",
         "metadata": {},
         "source": [
            "# Clone repository and install dependencies\n",
            "This first step will download the latest version of Voice Changer and install the dependencies. **It will take some time to complete.**"
         ]
      },
      {
         "cell_type": "code",
         "execution_count": null,
         "metadata": {
            "_kg_hide-output": false,
            "cellView": "form",
            "execution": {
               "iopub.execute_input": "2023-09-14T04:01:17.308682Z",
               "iopub.status.busy": "2023-09-14T04:01:17.308284Z",
               "iopub.status.idle": "2023-09-14T04:08:08.475375Z",
               "shell.execute_reply": "2023-09-14T04:08:08.473827Z",
               "shell.execute_reply.started": "2023-09-14T04:01:17.308652Z"
            },
            "id": "86wTFmqsNMnD",
            "trusted": true
         },
         "outputs": [],
         "source": [
            "# This will make that we're on the right folder before installing\n",
            "%cd /kaggle/working/\n",
            "\n",
            "# To workaround an issue with METADATA not found for aiohttp\n",
            "# !conda install -y aiohttp\n",
            "!pip install colorama python-dotenv pyngrok --quiet\n",
            "\n",
            "from colorama import Fore, Style\n",
            "import requests, os\n",
            "\n",
            "print(f\"{Fore.CYAN}> Downloading prebuilt executable...{Style.RESET_ALL}\")\n",
            "\n",
            "def download_and_unpack(assets: list[dict]):\n",
            "    for asset in assets:\n",
            "        if not asset['name'].startswith('voice-changer-linux-amd64-cuda.tar.gz'):\n",
            "            continue\n",
            "        download_url = asset['browser_download_url']\n",
            "        !wget -q --show-progress {download_url}\n",
            "\n",
            "    print(f\"{Fore.GREEN}> Unpacking...{Style.RESET_ALL}\")\n",
            "    !cat voice-changer-linux-amd64-cuda.tar.gz.* | tar xzf -\n",
            "    print(f\"{Fore.GREEN}> Finished unpacking!{Style.RESET_ALL}\")\n",
            "    !rm -rf voice-changer-linux-amd64-cuda.tar.gz.*\n",
            "\n",
            "res = requests.get('https://api.github.com/repos/deiteris/voice-changer/releases/latest')\n",
            "release_info = res.json()\n",
            "\n",
            "remote_version = release_info['tag_name']\n",
            "# Check and upgrade\n",
            "if not os.path.exists('MMVCServerSIO'):\n",
            "    local_version = !cat _internal/version.txt\n",
            "    if remote_version != local_version[0].strip():\n",
            "        !rm -rf ./MMVCServerSIO/_internal ./MMVCServerSIO/MMVCServerSIO.exe\n",
            "        download_and_unpack(release_info['assets'])\n",
            "else:\n",
            "    download_and_unpack(release_info['assets'])\n",
            "\n",
            "%cd MMVCServerSIO\n",
            "\n",
            "print(f\"{Fore.CYAN}> Installing libportaudio2...{Style.RESET_ALL}\")\n",
            "!apt-get -y install libportaudio2 -qq"
         ]
      },
      {
         "cell_type": "markdown",
         "metadata": {},
         "source": [
            "# Configure the server\n",
            "\n",
            "This cell will apply necessary configuration to the server."
         ]
      },
      {
         "cell_type": "code",
         "execution_count": null,
         "metadata": {},
         "outputs": [],
         "source": [
            "%cd /kaggle/working/MMVCServerSIO\n",
            "\n",
            "from dotenv import set_key\n",
            "\n",
            "set_key('.env', \"SAMPLE_MODE\", \"\")\n",
            "\n",
            "Ready = True"
         ]
      },
      {
         "cell_type": "markdown",
         "metadata": {},
         "source": [
            "# Start Server **using ngrok**\n",
            "This cell will start the server, the first time that you run it will download the models, so it can take a while (~1-2 minutes)\n",
            "\n",
            "---\n",
            "You'll need a ngrok account, but <font color=green>**it's free**</font> and easy to create!\n",
            "---\n",
            "**1** - Create a **free** account at [ngrok](https://dashboard.ngrok.com/signup)\\\n",
            "**2** - If you didn't logged in with Google or Github, you will need to **verify your e-mail**!\\\n",
            "**3** - Click [this link](https://dashboard.ngrok.com/get-started/your-authtoken) to get your auth token, and replace **TOKEN_HERE** with your token.\\\n",
            "**4** - *(optional)* Change to a region near to you"
         ]
      },
      {
         "cell_type": "code",
         "execution_count": null,
         "metadata": {
            "_kg_hide-input": false,
            "cellView": "form",
            "id": "lLWQuUd7WW9U",
            "scrolled": true,
            "trusted": true
         },
         "outputs": [],
         "source": [
            "Token = 'TOKEN_HERE'\n",
            "Region = \"eu\" # Read the instructions below\n",
            "ClearConsole = True\n",
            "\n",
            "# You can change the region for a better latency, use only the abbreviation\n",
            "# Choose between this options:\n",
            "# us -> United States (Ohio)\n",
            "# ap -> Asia/Pacific (Singapore)\n",
            "# au -> Australia (Sydney)\n",
            "# eu -> Europe (Frankfurt)\n",
            "# in -> India (Mumbai)\n",
            "# jp -> Japan (Tokyo)\n",
            "# sa -> South America (Sao Paulo)\n",
            "\n",
            "# ---------------------------------\n",
            "# DO NOT TOUCH ANYTHING DOWN BELOW!\n",
            "\n",
            "%cd /kaggle/working/MMVCServerSIO\n",
            "\n",
            "if not globals().get('Ready', False):\n",
            "    print(\"Go back and run first and second cells.\")\n",
            "else:\n",
            "    from pyngrok import conf, ngrok\n",
            "    MyConfig = conf.PyngrokConfig()\n",
            "    MyConfig.auth_token = Token\n",
            "    MyConfig.region = Region[0:2]\n",
            "    conf.get_default().authtoken = Token\n",
            "    conf.get_default().region = Region\n",
            "    conf.set_default(MyConfig);\n",
            "\n",
            "    import threading, time, socket\n",
            "    PORT = 18888\n",
            "\n",
            "    import json\n",
            "    from pyngrok import ngrok\n",
            "    from IPython.display import clear_output\n",
            "\n",
            "    ngrokConnection = ngrok.connect(PORT)\n",
            "    public_url = ngrokConnection.public_url\n",
            "    set_key('.env', \"ALLOWED_ORIGINS\", json.dumps([public_url]))\n",
            "\n",
            "    def wait_for_server():\n",
            "        while True:\n",
            "            time.sleep(0.5)\n",
            "            sock = socket.socket(socket.AF_INET, socket.SOCK_STREAM)\n",
            "            result = sock.connect_ex(('127.0.0.1', PORT))\n",
            "            if result == 0:\n",
            "                break\n",
            "            sock.close()\n",
            "        if ClearConsole:\n",
            "            clear_output()\n",
            "        print(\"--------- SERVER READY! ---------\")\n",
            "        print(\"Your server is available at:\")\n",
            "        print(public_url)\n",
            "        print(\"---------------------------------\")\n",
            "\n",
            "    threading.Thread(target=wait_for_server, daemon=True).start()\n",
            "\n",
            "    !./MMVCServerSIO\n",
            "\n",
            "    ngrok.disconnect(ngrokConnection.public_url)"
         ]
      }
   ],
   "metadata": {
      "kernelspec": {
         "display_name": "Python 3",
         "language": "python",
         "name": "python3"
      },
      "language_info": {
         "codemirror_mode": {
            "name": "ipython",
            "version": 3
         },
         "file_extension": ".py",
         "mimetype": "text/x-python",
         "name": "python",
         "nbconvert_exporter": "python",
         "pygments_lexer": "ipython3",
         "version": "3.10.12"
      }
   },
   "nbformat": 4,
   "nbformat_minor": 4
}
